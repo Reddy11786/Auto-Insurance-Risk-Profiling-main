{
 "cells": [
  {
   "cell_type": "code",
   "execution_count": 1,
   "metadata": {},
   "outputs": [],
   "source": [
    "import os"
   ]
  },
  {
   "cell_type": "code",
   "execution_count": 2,
   "metadata": {},
   "outputs": [
    {
     "data": {
      "text/plain": [
       "'c:\\\\Users\\\\KUNAL MEHTA\\\\Desktop\\\\Data Science Training\\\\Projects\\\\Auto-Insurance-Risk-Profiling\\\\research'"
      ]
     },
     "execution_count": 2,
     "metadata": {},
     "output_type": "execute_result"
    }
   ],
   "source": [
    "%pwd"
   ]
  },
  {
   "cell_type": "code",
   "execution_count": 3,
   "metadata": {},
   "outputs": [],
   "source": [
    "os.chdir('../')"
   ]
  },
  {
   "cell_type": "code",
   "execution_count": 4,
   "metadata": {},
   "outputs": [
    {
     "data": {
      "text/plain": [
       "'c:\\\\Users\\\\KUNAL MEHTA\\\\Desktop\\\\Data Science Training\\\\Projects\\\\Auto-Insurance-Risk-Profiling'"
      ]
     },
     "execution_count": 4,
     "metadata": {},
     "output_type": "execute_result"
    }
   ],
   "source": [
    "%pwd"
   ]
  },
  {
   "cell_type": "code",
   "execution_count": 29,
   "metadata": {},
   "outputs": [],
   "source": [
    "from dataclasses import dataclass\n",
    "from pathlib import Path\n",
    "\n",
    "\n",
    "@dataclass(frozen=True)\n",
    "class PredictionsConfig:\n",
    "    root_dir: Path\n",
    "    test_data_path: Path\n",
    "    threshold_path: Path\n",
    "    class_model_path: Path\n",
    "    reg_model_path: Path\n",
    "    potential_customers_data_path: Path\n",
    "    potential_customers_with_predictions_data_path: Path\n"
   ]
  },
  {
   "cell_type": "code",
   "execution_count": 6,
   "metadata": {},
   "outputs": [],
   "source": [
    "from AutoInsurance.constants import *\n",
    "from AutoInsurance.utils.common import read_yaml, create_directories, save_json"
   ]
  },
  {
   "cell_type": "code",
   "execution_count": 40,
   "metadata": {},
   "outputs": [],
   "source": [
    "class ConfigurationManager:\n",
    "    def __init__(\n",
    "        self,\n",
    "        config_filepath = CONFIG_FILE_PATH,\n",
    "        params_filepath = PARAMS_FILE_PATH,\n",
    "        schema_filepath = SCHEMA_FILE_PATH):\n",
    "\n",
    "        self.config = read_yaml(config_filepath)\n",
    "        self.params = read_yaml(params_filepath)\n",
    "        self.schema = read_yaml(schema_filepath)\n",
    "\n",
    "        create_directories([self.config.artifacts_root])\n",
    "\n",
    "    def get_predictions_config(self) -> PredictionsConfig:\n",
    "        config = self.config.predictions\n",
    "\n",
    "        create_directories([config.root_dir])\n",
    "        predictions_config =  PredictionsConfig(\n",
    "            root_dir = Path(config.root_dir),\n",
    "            threshold_path = Path(config.threshold_path),\n",
    "            test_data_path = Path(config.test_data_path),\n",
    "            class_model_path = Path(config.class_model_path),\n",
    "            reg_model_path = Path(config.reg_model_path),\n",
    "            potential_customers_data_path = Path(config.potential_customers_data_path),\n",
    "            potential_customers_with_predictions_data_path = Path(config.potential_customers_with_predictions_data_path)\n",
    "        )\n",
    "    \n",
    "        return predictions_config"
   ]
  },
  {
   "cell_type": "code",
   "execution_count": 23,
   "metadata": {},
   "outputs": [],
   "source": [
    "import joblib \n",
    "import pandas as pd\n",
    "from AutoInsurance.utils.common import load_json\n",
    "import numpy as np\n",
    "from AutoInsurance.utils.common import logger"
   ]
  },
  {
   "cell_type": "code",
   "execution_count": 41,
   "metadata": {},
   "outputs": [],
   "source": [
    "class Predictions:\n",
    "    def __init__(self, config: PredictionsConfig):\n",
    "        self.config = config\n",
    "    \n",
    "\n",
    "    def get_predictions(self):\n",
    "\n",
    "        logger.info(f\"class_model_path: {self.config.class_model_path}\")\n",
    "        logger.info(f\"reg_model_path: {self.config.reg_model_path}\")\n",
    "        logger.info(f\"test_data_path: {self.config.test_data_path}\")\n",
    "        logger.info(f\"threshold_path: {self.config.threshold_path}\")\n",
    "        logger.info(f\"potential_customers_data_path: {self.config.potential_customers_data_path}\")\n",
    "\n",
    "\n",
    "        class_model = joblib.load(Path(self.config.class_model_path))\n",
    "        reg_model = joblib.load(Path(self.config.reg_model_path))\n",
    "\n",
    "        test_data = pd.read_csv(Path(self.config.test_data_path))\n",
    "        class_predictions_probs = class_model.predict_proba(test_data)[:, 1]\n",
    "\n",
    "        metrics = load_json(Path(self.config.threshold_path))\n",
    "        class_predictions = (class_predictions_probs >= metrics.optimal_threshold).astype(int)\n",
    "\n",
    "        reg_predictions = reg_model.predict(test_data)\n",
    "        reg_predictions = np.expm1(reg_predictions)\n",
    "\n",
    "        potential_customers_data = pd.read_csv(Path(self.config.potential_customers_data_path))\n",
    "        potential_customers_data['claim_probability'] = class_predictions_probs\n",
    "        potential_customers_data['claim'] = class_predictions\n",
    "        potential_customers_data['claim_amount'] = reg_predictions\n",
    "\n",
    "        potential_customers_data.to_csv(Path(self.config.potential_customers_with_predictions_data_path), index = False)\n"
   ]
  },
  {
   "cell_type": "code",
   "execution_count": 43,
   "metadata": {},
   "outputs": [
    {
     "name": "stdout",
     "output_type": "stream",
     "text": [
      "[2024-05-23 17:04:02,480: INFO: common: yaml file: config\\config.yaml loaded successfully]\n",
      "[2024-05-23 17:04:02,484: INFO: common: yaml file: params.yaml loaded successfully]\n",
      "[2024-05-23 17:04:02,488: INFO: common: yaml file: schema.yaml loaded successfully]\n",
      "[2024-05-23 17:04:02,490: INFO: common: created directory at: artifacts]\n",
      "[2024-05-23 17:04:02,495: INFO: common: created directory at: artifacts/predictions]\n",
      "[2024-05-23 17:04:02,496: INFO: 4204245725: class_model_path: artifacts\\model_trainer\\class_model.joblib]\n",
      "[2024-05-23 17:04:02,497: INFO: 4204245725: reg_model_path: artifacts\\model_trainer\\reg_model.joblib]\n",
      "[2024-05-23 17:04:02,499: INFO: 4204245725: test_data_path: artifacts\\data_transformation\\Processed_test_data.csv]\n",
      "[2024-05-23 17:04:02,500: INFO: 4204245725: threshold_path: artifacts\\model_evaluation\\class_metrics.json]\n",
      "[2024-05-23 17:04:02,501: INFO: 4204245725: potential_customers_data_path: artifacts\\data_transformation\\potential_customers.csv]\n"
     ]
    },
    {
     "name": "stdout",
     "output_type": "stream",
     "text": [
      "[2024-05-23 17:04:02,570: INFO: common: json file loaded succesfully from: artifacts\\model_evaluation\\class_metrics.json]\n"
     ]
    }
   ],
   "source": [
    "try:\n",
    "    config = ConfigurationManager()\n",
    "    predictions_config = config.get_predictions_config()\n",
    "    predictions_config = Predictions(config = predictions_config)\n",
    "    predictions_config.get_predictions()\n",
    "\n",
    "except Exception as e:\n",
    "    raise e"
   ]
  }
 ],
 "metadata": {
  "kernelspec": {
   "display_name": "Python 3",
   "language": "python",
   "name": "python3"
  },
  "language_info": {
   "codemirror_mode": {
    "name": "ipython",
    "version": 3
   },
   "file_extension": ".py",
   "mimetype": "text/x-python",
   "name": "python",
   "nbconvert_exporter": "python",
   "pygments_lexer": "ipython3",
   "version": "3.9.0"
  }
 },
 "nbformat": 4,
 "nbformat_minor": 2
}
