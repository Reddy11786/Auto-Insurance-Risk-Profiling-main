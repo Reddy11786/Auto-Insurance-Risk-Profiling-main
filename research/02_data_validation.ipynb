{
 "cells": [
  {
   "cell_type": "code",
   "execution_count": 1,
   "metadata": {},
   "outputs": [],
   "source": [
    "import os"
   ]
  },
  {
   "cell_type": "code",
   "execution_count": 2,
   "metadata": {},
   "outputs": [
    {
     "data": {
      "text/plain": [
       "'c:\\\\Users\\\\KUNAL MEHTA\\\\Desktop\\\\Data Science Training\\\\Projects\\\\Auto-Insurance-Risk-Profiling\\\\research'"
      ]
     },
     "execution_count": 2,
     "metadata": {},
     "output_type": "execute_result"
    }
   ],
   "source": [
    "%pwd"
   ]
  },
  {
   "cell_type": "code",
   "execution_count": 3,
   "metadata": {},
   "outputs": [],
   "source": [
    "os.chdir('../')"
   ]
  },
  {
   "cell_type": "code",
   "execution_count": 4,
   "metadata": {},
   "outputs": [
    {
     "data": {
      "text/plain": [
       "'c:\\\\Users\\\\KUNAL MEHTA\\\\Desktop\\\\Data Science Training\\\\Projects\\\\Auto-Insurance-Risk-Profiling'"
      ]
     },
     "execution_count": 4,
     "metadata": {},
     "output_type": "execute_result"
    }
   ],
   "source": [
    "%pwd"
   ]
  },
  {
   "cell_type": "code",
   "execution_count": 5,
   "metadata": {},
   "outputs": [],
   "source": [
    "import pandas as pd"
   ]
  },
  {
   "cell_type": "code",
   "execution_count": 6,
   "metadata": {},
   "outputs": [
    {
     "data": {
      "text/html": [
       "<div>\n",
       "<style scoped>\n",
       "    .dataframe tbody tr th:only-of-type {\n",
       "        vertical-align: middle;\n",
       "    }\n",
       "\n",
       "    .dataframe tbody tr th {\n",
       "        vertical-align: top;\n",
       "    }\n",
       "\n",
       "    .dataframe thead th {\n",
       "        text-align: right;\n",
       "    }\n",
       "</style>\n",
       "<table border=\"1\" class=\"dataframe\">\n",
       "  <thead>\n",
       "    <tr style=\"text-align: right;\">\n",
       "      <th></th>\n",
       "      <th>pol_number</th>\n",
       "      <th>pol_eff_dt</th>\n",
       "      <th>gender</th>\n",
       "      <th>agecat</th>\n",
       "      <th>date_of_birth</th>\n",
       "      <th>credit_score</th>\n",
       "      <th>area</th>\n",
       "      <th>traffic_index</th>\n",
       "      <th>veh_age</th>\n",
       "      <th>veh_body</th>\n",
       "      <th>veh_value</th>\n",
       "      <th>claim_office</th>\n",
       "      <th>numclaims</th>\n",
       "      <th>claimcst0</th>\n",
       "      <th>annual_premium</th>\n",
       "    </tr>\n",
       "  </thead>\n",
       "  <tbody>\n",
       "    <tr>\n",
       "      <th>0</th>\n",
       "      <td>64080188</td>\n",
       "      <td>7/10/2017</td>\n",
       "      <td>M</td>\n",
       "      <td>2.0</td>\n",
       "      <td>1/4/1989</td>\n",
       "      <td>631.0</td>\n",
       "      <td>B</td>\n",
       "      <td>140.9</td>\n",
       "      <td>4</td>\n",
       "      <td>TRUCK</td>\n",
       "      <td>0.924</td>\n",
       "      <td>NaN</td>\n",
       "      <td>0</td>\n",
       "      <td>0.000000</td>\n",
       "      <td>716.53</td>\n",
       "    </tr>\n",
       "    <tr>\n",
       "      <th>1</th>\n",
       "      <td>18917133</td>\n",
       "      <td>7/31/2017</td>\n",
       "      <td>M</td>\n",
       "      <td>2.0</td>\n",
       "      <td>6/21/1985</td>\n",
       "      <td>531.0</td>\n",
       "      <td>C</td>\n",
       "      <td>136.5</td>\n",
       "      <td>3</td>\n",
       "      <td>HBACK</td>\n",
       "      <td>1.430</td>\n",
       "      <td>B</td>\n",
       "      <td>1</td>\n",
       "      <td>583.010876</td>\n",
       "      <td>716.53</td>\n",
       "    </tr>\n",
       "    <tr>\n",
       "      <th>2</th>\n",
       "      <td>82742606</td>\n",
       "      <td>2/1/2017</td>\n",
       "      <td>M</td>\n",
       "      <td>6.0</td>\n",
       "      <td>7/25/1942</td>\n",
       "      <td>838.0</td>\n",
       "      <td>D</td>\n",
       "      <td>88.8</td>\n",
       "      <td>3</td>\n",
       "      <td>SEDAN</td>\n",
       "      <td>1.100</td>\n",
       "      <td>D</td>\n",
       "      <td>1</td>\n",
       "      <td>159.375757</td>\n",
       "      <td>716.53</td>\n",
       "    </tr>\n",
       "    <tr>\n",
       "      <th>3</th>\n",
       "      <td>43601997</td>\n",
       "      <td>10/17/2017</td>\n",
       "      <td>M</td>\n",
       "      <td>5.0</td>\n",
       "      <td>6/8/1959</td>\n",
       "      <td>835.0</td>\n",
       "      <td>E</td>\n",
       "      <td>NaN</td>\n",
       "      <td>2</td>\n",
       "      <td>SEDAN</td>\n",
       "      <td>2.090</td>\n",
       "      <td>NaN</td>\n",
       "      <td>0</td>\n",
       "      <td>0.000000</td>\n",
       "      <td>716.53</td>\n",
       "    </tr>\n",
       "    <tr>\n",
       "      <th>4</th>\n",
       "      <td>58746861</td>\n",
       "      <td>4/13/2017</td>\n",
       "      <td>F</td>\n",
       "      <td>4.0</td>\n",
       "      <td>5/16/1967</td>\n",
       "      <td>748.0</td>\n",
       "      <td>C</td>\n",
       "      <td>123.0</td>\n",
       "      <td>3</td>\n",
       "      <td>HBACK</td>\n",
       "      <td>0.803</td>\n",
       "      <td>C</td>\n",
       "      <td>1</td>\n",
       "      <td>143.555642</td>\n",
       "      <td>716.53</td>\n",
       "    </tr>\n",
       "  </tbody>\n",
       "</table>\n",
       "</div>"
      ],
      "text/plain": [
       "   pol_number  pol_eff_dt gender  agecat date_of_birth  credit_score area  \\\n",
       "0    64080188   7/10/2017      M     2.0      1/4/1989         631.0    B   \n",
       "1    18917133   7/31/2017      M     2.0     6/21/1985         531.0    C   \n",
       "2    82742606    2/1/2017      M     6.0     7/25/1942         838.0    D   \n",
       "3    43601997  10/17/2017      M     5.0      6/8/1959         835.0    E   \n",
       "4    58746861   4/13/2017      F     4.0     5/16/1967         748.0    C   \n",
       "\n",
       "   traffic_index  veh_age veh_body  veh_value claim_office  numclaims  \\\n",
       "0          140.9        4    TRUCK      0.924          NaN          0   \n",
       "1          136.5        3    HBACK      1.430            B          1   \n",
       "2           88.8        3    SEDAN      1.100            D          1   \n",
       "3            NaN        2    SEDAN      2.090          NaN          0   \n",
       "4          123.0        3    HBACK      0.803            C          1   \n",
       "\n",
       "    claimcst0  annual_premium  \n",
       "0    0.000000          716.53  \n",
       "1  583.010876          716.53  \n",
       "2  159.375757          716.53  \n",
       "3    0.000000          716.53  \n",
       "4  143.555642          716.53  "
      ]
     },
     "execution_count": 6,
     "metadata": {},
     "output_type": "execute_result"
    }
   ],
   "source": [
    "data = pd.read_csv(\"artifacts/data_ingestion/auto_policies_2017.csv\")\n",
    "data.head()"
   ]
  },
  {
   "cell_type": "code",
   "execution_count": 7,
   "metadata": {},
   "outputs": [
    {
     "name": "stdout",
     "output_type": "stream",
     "text": [
      "<class 'pandas.core.frame.DataFrame'>\n",
      "RangeIndex: 60392 entries, 0 to 60391\n",
      "Data columns (total 15 columns):\n",
      " #   Column          Non-Null Count  Dtype  \n",
      "---  ------          --------------  -----  \n",
      " 0   pol_number      60392 non-null  int64  \n",
      " 1   pol_eff_dt      60392 non-null  object \n",
      " 2   gender          60392 non-null  object \n",
      " 3   agecat          55561 non-null  float64\n",
      " 4   date_of_birth   60392 non-null  object \n",
      " 5   credit_score    57591 non-null  float64\n",
      " 6   area            60392 non-null  object \n",
      " 7   traffic_index   56889 non-null  float64\n",
      " 8   veh_age         60392 non-null  int64  \n",
      " 9   veh_body        60392 non-null  object \n",
      " 10  veh_value       60392 non-null  float64\n",
      " 11  claim_office    10030 non-null  object \n",
      " 12  numclaims       60392 non-null  int64  \n",
      " 13  claimcst0       60392 non-null  float64\n",
      " 14  annual_premium  60392 non-null  float64\n",
      "dtypes: float64(6), int64(3), object(6)\n",
      "memory usage: 6.9+ MB\n"
     ]
    }
   ],
   "source": [
    "data.info()"
   ]
  },
  {
   "cell_type": "code",
   "execution_count": 8,
   "metadata": {},
   "outputs": [
    {
     "data": {
      "text/plain": [
       "pol_number            0\n",
       "pol_eff_dt            0\n",
       "gender                0\n",
       "agecat             4831\n",
       "date_of_birth         0\n",
       "credit_score       2801\n",
       "area                  0\n",
       "traffic_index      3503\n",
       "veh_age               0\n",
       "veh_body              0\n",
       "veh_value             0\n",
       "claim_office      50362\n",
       "numclaims             0\n",
       "claimcst0             0\n",
       "annual_premium        0\n",
       "dtype: int64"
      ]
     },
     "execution_count": 8,
     "metadata": {},
     "output_type": "execute_result"
    }
   ],
   "source": [
    "data.isnull().sum()"
   ]
  },
  {
   "cell_type": "code",
   "execution_count": 9,
   "metadata": {},
   "outputs": [],
   "source": [
    "from dataclasses import dataclass\n",
    "from pathlib import Path\n",
    "\n",
    "\n",
    "@dataclass(frozen=True)\n",
    "class DataValidationConfig:\n",
    "    root_dir: Path\n",
    "    STATUS_FILE: str\n",
    "    unzip_data_dir: Path\n",
    "    all_schema: dict"
   ]
  },
  {
   "cell_type": "code",
   "execution_count": 10,
   "metadata": {},
   "outputs": [],
   "source": [
    "from AutoInsurance.constants import *\n",
    "from AutoInsurance.utils.common import read_yaml, create_directories"
   ]
  },
  {
   "cell_type": "code",
   "execution_count": 14,
   "metadata": {},
   "outputs": [],
   "source": [
    "class ConfigurationManager:\n",
    "    def __init__(\n",
    "        self,\n",
    "        config_filepath = CONFIG_FILE_PATH,\n",
    "        params_filepath = PARAMS_FILE_PATH,\n",
    "        schema_filepath = SCHEMA_FILE_PATH):\n",
    "\n",
    "        self.config = read_yaml(config_filepath)\n",
    "        self.params = read_yaml(params_filepath)\n",
    "        self.schema = read_yaml(schema_filepath)\n",
    "\n",
    "        create_directories([self.config.artifacts_root])\n",
    "        \n",
    "    def get_data_validation_config(self) -> DataValidationConfig:\n",
    "        config = self.config.data_validation\n",
    "        schema = self.schema.COLUMNS\n",
    "\n",
    "        create_directories([config.root_dir])\n",
    "\n",
    "        data_validation_config = DataValidationConfig(\n",
    "            root_dir=config.root_dir,\n",
    "            STATUS_FILE=config.STATUS_FILE,\n",
    "            unzip_data_dir = config.unzip_data_dir,\n",
    "            all_schema=schema,\n",
    "        )\n",
    "\n",
    "        return data_validation_config\n"
   ]
  },
  {
   "cell_type": "code",
   "execution_count": 11,
   "metadata": {},
   "outputs": [],
   "source": [
    "import os\n",
    "from AutoInsurance import logger"
   ]
  },
  {
   "cell_type": "code",
   "execution_count": 12,
   "metadata": {},
   "outputs": [],
   "source": [
    "class DataValiadtion:\n",
    "    def __init__(self, config: DataValidationConfig):\n",
    "        self.config = config\n",
    "\n",
    "\n",
    "    def validate_all_columns(self)-> bool:\n",
    "        try:\n",
    "            validation_status = None\n",
    "\n",
    "            data = pd.read_csv(self.config.unzip_data_dir)\n",
    "            all_cols = list(data.columns)\n",
    "\n",
    "            all_schema = self.config.all_schema.keys()\n",
    "\n",
    "            \n",
    "            for col in all_cols:\n",
    "                if col not in all_schema:\n",
    "                    validation_status = False\n",
    "                    with open(self.config.STATUS_FILE, 'w') as f:\n",
    "                        f.write(f\"Validation status: {validation_status}\")\n",
    "                else:\n",
    "                    validation_status = True\n",
    "                    with open(self.config.STATUS_FILE, 'w') as f:\n",
    "                        f.write(f\"Validation status: {validation_status}\")\n",
    "\n",
    "            return validation_status\n",
    "        \n",
    "        except Exception as e:\n",
    "            raise e"
   ]
  },
  {
   "cell_type": "code",
   "execution_count": 15,
   "metadata": {},
   "outputs": [
    {
     "name": "stdout",
     "output_type": "stream",
     "text": [
      "[2024-05-20 14:49:50,371: INFO: common: yaml file: config\\config.yaml loaded successfully]\n",
      "[2024-05-20 14:49:50,374: INFO: common: yaml file: params.yaml loaded successfully]\n",
      "[2024-05-20 14:49:50,379: INFO: common: yaml file: schema.yaml loaded successfully]\n",
      "[2024-05-20 14:49:50,380: INFO: common: created directory at: artifacts]\n",
      "[2024-05-20 14:49:50,382: INFO: common: created directory at: artifacts/data_validation]\n"
     ]
    }
   ],
   "source": [
    "try:\n",
    "    config = ConfigurationManager()\n",
    "    data_validation_config = config.get_data_validation_config()\n",
    "    data_validation = DataValiadtion(config=data_validation_config)\n",
    "    data_validation.validate_all_columns()\n",
    "except Exception as e:\n",
    "    raise e"
   ]
  }
 ],
 "metadata": {
  "kernelspec": {
   "display_name": "Python 3",
   "language": "python",
   "name": "python3"
  },
  "language_info": {
   "codemirror_mode": {
    "name": "ipython",
    "version": 3
   },
   "file_extension": ".py",
   "mimetype": "text/x-python",
   "name": "python",
   "nbconvert_exporter": "python",
   "pygments_lexer": "ipython3",
   "version": "3.9.0"
  }
 },
 "nbformat": 4,
 "nbformat_minor": 2
}
