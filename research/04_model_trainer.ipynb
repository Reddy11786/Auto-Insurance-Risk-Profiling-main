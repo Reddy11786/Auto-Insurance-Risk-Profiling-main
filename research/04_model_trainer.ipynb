{
 "cells": [
  {
   "cell_type": "code",
   "execution_count": 1,
   "metadata": {},
   "outputs": [],
   "source": [
    "import os"
   ]
  },
  {
   "cell_type": "code",
   "execution_count": 2,
   "metadata": {},
   "outputs": [
    {
     "data": {
      "text/plain": [
       "'c:\\\\Users\\\\KUNAL MEHTA\\\\Desktop\\\\Data Science Training\\\\Projects\\\\Auto-Insurance-Risk-Profiling\\\\research'"
      ]
     },
     "execution_count": 2,
     "metadata": {},
     "output_type": "execute_result"
    }
   ],
   "source": [
    "%pwd"
   ]
  },
  {
   "cell_type": "code",
   "execution_count": 3,
   "metadata": {},
   "outputs": [],
   "source": [
    "os.chdir('../')"
   ]
  },
  {
   "cell_type": "code",
   "execution_count": 4,
   "metadata": {},
   "outputs": [
    {
     "data": {
      "text/plain": [
       "'c:\\\\Users\\\\KUNAL MEHTA\\\\Desktop\\\\Data Science Training\\\\Projects\\\\Auto-Insurance-Risk-Profiling'"
      ]
     },
     "execution_count": 4,
     "metadata": {},
     "output_type": "execute_result"
    }
   ],
   "source": [
    "%pwd"
   ]
  },
  {
   "cell_type": "code",
   "execution_count": 36,
   "metadata": {},
   "outputs": [],
   "source": [
    "from dataclasses import dataclass\n",
    "from pathlib import Path\n",
    "\n",
    "@dataclass(frozen=True)\n",
    "class ClassModelTrainerConfig:\n",
    "    root_dir: Path\n",
    "    train_data_class_path: Path\n",
    "    test_data_path: Path\n",
    "    model_class_name: str\n",
    "    n_estimators: int\n",
    "    learning_rate: float\n",
    "    max_depth: int\n",
    "    min_samples_leaf: int\n",
    "    max_features: float\n",
    "\n",
    "@dataclass(frozen=True)\n",
    "class RegModelTrainerConfig:\n",
    "    root_dir: Path\n",
    "    train_data_reg_path: Path\n",
    "    test_data_path: Path\n",
    "    model_reg_name: str\n",
    "    learning_rate: float\n",
    "    max_depth: int\n",
    "    max_features: float\n",
    "    min_samples_leaf: int\n",
    "    n_estimators: int"
   ]
  },
  {
   "cell_type": "code",
   "execution_count": 7,
   "metadata": {},
   "outputs": [],
   "source": [
    "from AutoInsurance.constants import *\n",
    "from AutoInsurance.utils.common import read_yaml, create_directories"
   ]
  },
  {
   "cell_type": "code",
   "execution_count": 37,
   "metadata": {},
   "outputs": [],
   "source": [
    "class ConfigurationManager:\n",
    "    def __init__(\n",
    "        self,\n",
    "        config_filepath = CONFIG_FILE_PATH,\n",
    "        params_filepath = PARAMS_FILE_PATH,\n",
    "        schema_filepath = SCHEMA_FILE_PATH):\n",
    "\n",
    "        self.config = read_yaml(config_filepath)\n",
    "        self.params = read_yaml(params_filepath)\n",
    "        self.schema = read_yaml(schema_filepath)\n",
    "\n",
    "        create_directories([self.config.artifacts_root])\n",
    "\n",
    "    def get_class_model_trainer_config(self) -> ClassModelTrainerConfig:\n",
    "        config = self.config.class_model_trainer\n",
    "        params = self.params.GradientBoostingClassifier\n",
    "\n",
    "        create_directories([config.root_dir])\n",
    "\n",
    "        class_model_trainer_config = ClassModelTrainerConfig(\n",
    "            root_dir= config.root_dir,\n",
    "            train_data_class_path= config.train_data_class_path,\n",
    "            test_data_path= config.test_data_path,\n",
    "            model_class_name= config.model_class_name,\n",
    "            n_estimators= params.n_estimators,\n",
    "            learning_rate= params.learning_rate,\n",
    "            max_depth= params.max_depth,\n",
    "            min_samples_leaf= params.min_samples_leaf,\n",
    "            max_features= params.max_features,\n",
    "        )\n",
    "\n",
    "        return class_model_trainer_config\n",
    "    \n",
    "    def get_reg_model_trainer_config(self) -> RegModelTrainerConfig:\n",
    "        config = self.config.reg_model_trainer\n",
    "        params = self.params.GradientBoostingRegressor\n",
    "\n",
    "        create_directories([config.root_dir])    \n",
    "\n",
    "        reg_model_trainer_config = RegModelTrainerConfig(\n",
    "            root_dir= config.root_dir,\n",
    "            train_data_reg_path= config.train_data_reg_path,\n",
    "            test_data_path= config.test_data_path,\n",
    "            model_reg_name= config.model_reg_name,\n",
    "            n_estimators= params.n_estimators,\n",
    "            learning_rate= params.learning_rate,\n",
    "            max_depth= params.max_depth,\n",
    "            min_samples_leaf= params.min_samples_leaf,\n",
    "            max_features= params.max_features,\n",
    "        )\n",
    "\n",
    "        return reg_model_trainer_config "
   ]
  },
  {
   "cell_type": "code",
   "execution_count": 20,
   "metadata": {},
   "outputs": [],
   "source": [
    "import pandas as pd\n",
    "import numpy as np\n",
    "import matplotlib.pyplot as plt\n",
    "import datetime as datetime\n",
    "import seaborn as sns\n",
    "import math\n",
    "from sklearn.ensemble import GradientBoostingClassifier\n",
    "from sklearn.model_selection import StratifiedKFold, GridSearchCV\n",
    "from imblearn.over_sampling import SMOTE\n",
    "from sklearn.ensemble import GradientBoostingClassifier\n",
    "from sklearn.model_selection import StratifiedKFold, GridSearchCV, train_test_split\n",
    "from sklearn.linear_model import LogisticRegression\n",
    "from sklearn.metrics import roc_auc_score, roc_curve, auc, mean_squared_error, r2_score, classification_report\n",
    "from sklearn.ensemble import GradientBoostingRegressor\n",
    "from sklearn.model_selection import train_test_split, KFold, cross_val_score\n",
    "from sklearn.metrics import mean_squared_error, r2_score, mean_absolute_error\n",
    "from sklearn.cluster import KMeans\n",
    "import scipy.stats as stats\n",
    "import joblib\n"
   ]
  },
  {
   "cell_type": "code",
   "execution_count": 38,
   "metadata": {},
   "outputs": [],
   "source": [
    "class ClassModelTrainer:\n",
    "    def __init__(self, config: ClassModelTrainerConfig):\n",
    "        self.config = config\n",
    "\n",
    "    def train_model(self):\n",
    "        train_data = pd.read_csv(self.config.train_data_class_path)\n",
    "        test_data = pd.read_csv(self.config.test_data_path)\n",
    "        train_x = train_data.drop('claim', axis = 1)\n",
    "        train_y = train_data['claim']\n",
    "\n",
    "        model = GradientBoostingClassifier(\n",
    "            n_estimators= self.config.n_estimators,\n",
    "            learning_rate= self.config.learning_rate,\n",
    "            max_depth= self.config.max_depth,\n",
    "            min_samples_leaf= self.config.min_samples_leaf,\n",
    "            max_features= self.config.max_features,\n",
    "        )\n",
    "\n",
    "        model.fit(train_x, train_y)\n",
    "\n",
    "        joblib.dump(model, os.path.join(self.config.root_dir, self.config.model_class_name))\n",
    "\n",
    "\n",
    "class RegModelTrainer:\n",
    "    def __init__(self, config: RegModelTrainerConfig):\n",
    "        self.config = config\n",
    "\n",
    "    def train_model(self):\n",
    "        train_data = pd.read_csv(self.config.train_data_reg_path)\n",
    "        test_data = pd.read_csv(self.config.test_data_path)\n",
    "        train_x = train_data.drop('log_amount', axis = 1)\n",
    "        train_y = train_data['log_amount']\n",
    "\n",
    "        model = GradientBoostingRegressor(\n",
    "            n_estimators= self.config.n_estimators,\n",
    "            learning_rate= self.config.learning_rate,\n",
    "            max_depth= self.config.max_depth,\n",
    "            min_samples_leaf= self.config.min_samples_leaf,\n",
    "            max_features= self.config.max_features,\n",
    "        )\n",
    "\n",
    "        model.fit(train_x, train_y)\n",
    "\n",
    "        joblib.dump(model, os.path.join(self.config.root_dir, self.config.model_reg_name))\n"
   ]
  },
  {
   "cell_type": "code",
   "execution_count": 39,
   "metadata": {},
   "outputs": [
    {
     "name": "stdout",
     "output_type": "stream",
     "text": [
      "[2024-05-22 01:30:08,129: INFO: common: yaml file: config\\config.yaml loaded successfully]\n",
      "[2024-05-22 01:30:08,133: INFO: common: yaml file: params.yaml loaded successfully]\n",
      "[2024-05-22 01:30:08,138: INFO: common: yaml file: schema.yaml loaded successfully]\n",
      "[2024-05-22 01:30:08,141: INFO: common: created directory at: artifacts]\n",
      "[2024-05-22 01:30:08,142: INFO: common: created directory at: artifacts/model_trainer]\n",
      "[2024-05-22 01:30:12,195: INFO: common: created directory at: artifacts/model_trainer]\n"
     ]
    }
   ],
   "source": [
    "try:\n",
    "    config = ConfigurationManager()\n",
    "    class_model_trainer_config = config.get_class_model_trainer_config()\n",
    "    class_model_trainer_config = ClassModelTrainer(config = class_model_trainer_config)\n",
    "    class_model_trainer_config.train_model()\n",
    "    reg_model_trainer_config = config.get_reg_model_trainer_config()\n",
    "    reg_model_trainer_config = RegModelTrainer(config = reg_model_trainer_config)\n",
    "    reg_model_trainer_config.train_model()\n",
    "\n",
    "except Exception as e:\n",
    "    raise e"
   ]
  }
 ],
 "metadata": {
  "kernelspec": {
   "display_name": "Python 3",
   "language": "python",
   "name": "python3"
  },
  "language_info": {
   "codemirror_mode": {
    "name": "ipython",
    "version": 3
   },
   "file_extension": ".py",
   "mimetype": "text/x-python",
   "name": "python",
   "nbconvert_exporter": "python",
   "pygments_lexer": "ipython3",
   "version": "3.9.0"
  }
 },
 "nbformat": 4,
 "nbformat_minor": 2
}
